{
  "cells": [
    {
      "cell_type": "markdown",
      "metadata": {
        "id": "_0xer6opxPNG"
      },
      "source": [
        "# **Collaborative Filtering**"
      ]
    },
    {
      "cell_type": "code",
      "execution_count": 158,
      "metadata": {
        "id": "0J1Wm3UkQkVN"
      },
      "outputs": [],
      "source": [
        "import math\n",
        "import matplotlib.pyplot as plt\n",
        "import seaborn as sns\n",
        "import pyspark\n",
        "from pyspark.sql import SparkSession, Window, DataFrame, Row\n",
        "from pyspark.sql.functions import (\n",
        "    col, sqrt, sum as spark_sum, abs as spark_abs,\n",
        "    when, row_number, lit, avg, pow, mean, desc, count,\n",
        "    broadcast, collect_list, struct\n",
        ")\n",
        "from pyspark.ml.evaluation import RegressionEvaluator\n",
        "from pyspark.sql.types import (\n",
        "    StructType, StructField, IntegerType, FloatType, DoubleType\n",
        ")\n",
        "from scipy.sparse import coo_matrix"
      ]
    },
    {
      "cell_type": "code",
      "execution_count": 135,
      "metadata": {
        "colab": {
          "base_uri": "https://localhost:8080/"
        },
        "id": "dBk59zgqQ4Cu",
        "outputId": "a1e44680-4ad5-41a2-8cd6-aacb352ceec4"
      },
      "outputs": [
        {
          "name": "stdout",
          "output_type": "stream",
          "text": [
            "Drive already mounted at /content/drive; to attempt to forcibly remount, call drive.mount(\"/content/drive\", force_remount=True).\n"
          ]
        }
      ],
      "source": [
        "from google.colab import drive\n",
        "drive.mount('/content/drive')"
      ]
    },
    {
      "cell_type": "markdown",
      "metadata": {
        "id": "wjZugGAfx5lp"
      },
      "source": [
        "### **Khởi tạo SparkSession và đọc dữ liệu**\n",
        "\n",
        "SparkSession được tạo với tên ứng dụng là \"CollaborativeFiltering_Pearson\".\n",
        "\n",
        "Dữ liệu được đọc từ Google Drive với tùy chọn header=True để sử dụng dòng đầu làm tiêu đề, và inferSchema=True để tự động suy luận kiểu dữ liệu.\n",
        "\n",
        "Chỉ giữ lại 3 cột: user, item và rating để phục vụ cho bài toán Collaborative Filtering.\n"
      ]
    },
    {
      "cell_type": "code",
      "execution_count": 137,
      "metadata": {
        "id": "QiJDNa4lmKEc"
      },
      "outputs": [],
      "source": [
        "# Khởi tạo session\n",
        "spark = SparkSession.builder \\\n",
        "    .appName(\"CollaborativeFiltering\") \\\n",
        "    .getOrCreate()"
      ]
    },
    {
      "cell_type": "markdown",
      "metadata": {
        "id": "MqSoUCV8xXx5"
      },
      "source": [
        "# **Dataset Description: `ratings2k.csv`**\n",
        "**This dataset contains product rating information, with 2365 data samples and the following columns:**\n",
        "\n",
        "| Column Name | Description             | Data Type | Example     |\n",
        "|-------------|--------------------------|-----------|-------------|\n",
        "| `index`     | Row index                | Integer   | 0, 1, 2...   |\n",
        "| `user`      | User ID                  | String    | 73, 36, 72...  |\n",
        "| `item`      | Product ID               | String    | 52, 239, 26...  |\n",
        "| `rating`    | Rating (from 0.0 to 5.0) | Float     | 4, 3, 1...    |\n"
      ]
    },
    {
      "cell_type": "code",
      "execution_count": 136,
      "metadata": {
        "id": "CUeu5I_Flxrv"
      },
      "outputs": [],
      "source": [
        "DATA_PATH = '/content/drive/MyDrive/ratings2k.csv'"
      ]
    },
    {
      "cell_type": "code",
      "execution_count": 138,
      "metadata": {
        "id": "HdHfb3aSmtKh"
      },
      "outputs": [],
      "source": [
        "df = spark.read.csv(DATA_PATH, header=True, inferSchema=True)"
      ]
    },
    {
      "cell_type": "markdown",
      "metadata": {
        "id": "MoHXUWJAxk2-"
      },
      "source": [
        "## **Algorithms**\n",
        "Implement the Collaborative Filtering algorithm to recommend items for individual\n",
        "\n",
        "users using PySpark. It should be a class for future deployment.\n",
        "The similarity between users is measured using the Pearson correlation coefficient.\n",
        "\n",
        "The constructor takes in the value of N (number of similar users) and the data set as a data frame (PySpark).\n",
        "\n",
        "The function predict() takes in a user (a vector of ratings) and the expected number of recommended items. It returns a data frame (PySpark) consisting of recommended items sorted in the descending order of scores."
      ]
    },
    {
      "cell_type": "markdown",
      "metadata": {
        "id": "9x5XZ5tvxply"
      },
      "source": [
        "## **Experiments**\n",
        "Load the given dataset to construct the utility matrix and then infer “profile” vectors for users and items.\n",
        "\n",
        "Divide the dataset into a training and test sets with the ratio of 8 : 2.\n",
        "\n",
        "Evaluate the algorithm in the test set with N in the range [2, 16]. After that, draw a bar chart to illustrate the RMSE values for each N."
      ]
    },
    {
      "cell_type": "markdown",
      "metadata": {
        "id": "daYGWG8OxqRf"
      },
      "source": [
        "## **Lớp `CollaborativeFiltering`: Dự đoán đánh giá bằng lọc cộng tác dựa trên Pearson**\n",
        "\n",
        "Chuẩn hóa đánh giá để tính Pearson giữa người dùng.\n",
        "\n",
        "Chọn Top-N người dùng tương tự nhất cho mỗi người dùng cần dự đoán.\n",
        "\n",
        "Dự đoán đánh giá dựa trên đánh giá của hàng xóm có trọng số theo độ tương quan."
      ]
    },
    {
      "cell_type": "code",
      "execution_count": null,
      "metadata": {
        "id": "78MJ7G78ag30"
      },
      "outputs": [],
      "source": [
        "class CollaborativeFiltering:\n",
        "    def __init__(self, N, dataframe):\n",
        "        self.N = N\n",
        "        self.train = dataframe.cache()\n",
        "\n",
        "        self.user_avg = self.train.groupBy(\"user\") \\\n",
        "                           .agg(avg(\"rating\").alias(\"avg_rating\")).cache()\n",
        "\n",
        "        self.train_norm = self.train.join(self.user_avg, \"user\") \\\n",
        "                             .withColumn(\"norm_rating\", col(\"rating\") - col(\"avg_rating\")) \\\n",
        "                             .select(\"user\", \"item\", \"norm_rating\") \\\n",
        "                             .cache()\n",
        "\n",
        "    def _build_target_df(self, target_vector):\n",
        "        spark = SparkSession.builder.getOrCreate()\n",
        "        vals = [(i, float(r)) for i, r in target_vector.items()]\n",
        "        return spark.createDataFrame(vals, [\"item\", \"rating\"])\n",
        "\n",
        "    def predict(self, target_vector: dict, num_recommendations: int):\n",
        "        spark = SparkSession.builder.getOrCreate()\n",
        "\n",
        "        # Build target_df & tính avg, norm\n",
        "        target_df = self._build_target_df(target_vector)\n",
        "        target_avg = sum(target_vector.values()) / len(target_vector)\n",
        "        target_norm = target_df.withColumn(\"target_norm\", col(\"rating\") - lit(target_avg))\n",
        "\n",
        "        # Tính Pearson similarity\n",
        "        joined = self.train_norm.join(target_norm, \"item\", \"inner\") \\\n",
        "            .withColumn(\"xx\", col(\"norm_rating\") * col(\"norm_rating\")) \\\n",
        "            .withColumn(\"yy\", col(\"target_norm\") * col(\"target_norm\")) \\\n",
        "            .withColumn(\"xy\", col(\"norm_rating\") * col(\"target_norm\"))\n",
        "\n",
        "        sim_df = joined.groupBy(\"user\") \\\n",
        "            .agg(\n",
        "              spark_sum(\"xy\").alias(\"num_uv\"),\n",
        "              spark_sum(\"xx\").alias(\"den_u\"),\n",
        "              spark_sum(\"yy\").alias(\"den_v\")\n",
        "            ).withColumn(\n",
        "              \"similarity\",\n",
        "              when((col(\"den_u\") * col(\"den_v\")) != 0,\n",
        "                   col(\"num_uv\") / sqrt(col(\"den_u\") * col(\"den_v\")))\n",
        "              .otherwise(lit(0.0))\n",
        "            ).select(\"user\", \"similarity\")\n",
        "\n",
        "        # Lấy tất cả bình luận đã normalized, join với similarity\n",
        "        cand = self.train_norm.join(sim_df, \"user\") \\\n",
        "            .select(\"user\", \"item\", \"norm_rating\", \"similarity\")\n",
        "\n",
        "        # Loại bỏ các item đã đánh giá trong target_vector\n",
        "        #    Tạo DataFrame các item đã đánh giá\n",
        "        rated = spark.createDataFrame(\n",
        "            [(i,) for i in target_vector.keys()], [\"item\"]\n",
        "        )\n",
        "        cand = cand.join(rated, on=\"item\", how=\"left_anti\")\n",
        "\n",
        "        # Tính weighted và abs_sim, groupBy item để aggregate\n",
        "        cand = cand.withColumn(\"weighted\", col(\"norm_rating\") * col(\"similarity\")) \\\n",
        "                   .withColumn(\"abs_sim\", spark_abs(col(\"similarity\")))\n",
        "\n",
        "        agg = cand.groupBy(\"item\").agg(\n",
        "            spark_sum(\"weighted\").alias(\"numerator\"),\n",
        "            spark_sum(\"abs_sim\").alias(\"denominator\")\n",
        "        )\n",
        "\n",
        "        # Tính score và chọn top N\n",
        "        result = agg.withColumn(\n",
        "            \"score\",\n",
        "            when(col(\"denominator\") != 0,\n",
        "                 lit(target_avg) + col(\"numerator\")/col(\"denominator\"))\n",
        "            .otherwise(lit(0.0))\n",
        "        ).select(\"item\", \"score\") \\\n",
        "         .orderBy(col(\"score\").desc()) \\\n",
        "         .limit(num_recommendations)\n",
        "\n",
        "        return result\n"
      ]
    },
    {
      "cell_type": "markdown",
      "metadata": {
        "id": "NctEmuUnZMMJ"
      },
      "source": [
        "### **Hàm `compute_rmse`: Đánh giá mô hình bằng RMSE**\n",
        "Tính sai số căn phương bình phương trung bình (Root Mean Squared Error – RMSE) giữa giá trị dự đoán và thực tế."
      ]
    },
    {
      "cell_type": "code",
      "execution_count": 150,
      "metadata": {
        "id": "3Q7bcKjmbXx7"
      },
      "outputs": [],
      "source": [
        "def calculate_rmse_results(collab, test_data, min_n=2, max_n=17):\n",
        "    spark = SparkSession.builder.getOrCreate()\n",
        "    evaluator = RegressionEvaluator(\n",
        "        metricName=\"rmse\",\n",
        "        labelCol=\"true_rating\",\n",
        "        predictionCol=\"prediction\"\n",
        "    )\n",
        "\n",
        "    # Tính global Pearson similarity cho mọi cặp user ---\n",
        "    a = collab.train_norm.alias(\"a\")  # (user, item, norm_rating)\n",
        "    b = collab.train_norm.alias(\"b\")\n",
        "\n",
        "    pairs = (\n",
        "        a.join(b, on=\"item\")\n",
        "         .filter(col(\"a.user\") < col(\"b.user\"))\n",
        "         .select(\n",
        "             col(\"a.user\").alias(\"u\"),\n",
        "             col(\"b.user\").alias(\"v\"),\n",
        "             (col(\"a.norm_rating\") * col(\"b.norm_rating\")).alias(\"xy\"),\n",
        "             (col(\"a.norm_rating\") * col(\"a.norm_rating\")).alias(\"xx\"),\n",
        "             (col(\"b.norm_rating\") * col(\"b.norm_rating\")).alias(\"yy\")\n",
        "         )\n",
        "    )\n",
        "\n",
        "    sim = (\n",
        "        pairs.groupBy(\"u\", \"v\")\n",
        "             .agg(\n",
        "                 spark_sum(\"xy\").alias(\"num\"),\n",
        "                 spark_sum(\"xx\").alias(\"den1\"),\n",
        "                 spark_sum(\"yy\").alias(\"den2\")\n",
        "             )\n",
        "             .withColumn(\n",
        "                 \"similarity\",\n",
        "                 when((col(\"den1\") * col(\"den2\")) != 0,\n",
        "                      col(\"num\") / sqrt(col(\"den1\") * col(\"den2\")))\n",
        "                 .otherwise(lit(0.0))\n",
        "             )\n",
        "             .select(\n",
        "                 col(\"u\").alias(\"user\"),\n",
        "                 col(\"v\").alias(\"neighbor\"),\n",
        "                 \"similarity\"\n",
        "             )\n",
        "    )\n",
        "    # Thêm cặp ngược lại để hoàn chỉnh\n",
        "    sim_rev = sim.select(\n",
        "        col(\"neighbor\").alias(\"user\"),\n",
        "        col(\"user\").alias(\"neighbor\"),\n",
        "        \"similarity\"\n",
        "    )\n",
        "    sim_df = sim.union(sim_rev).cache()\n",
        "\n",
        "    results = []\n",
        "    # Với mỗi N, tính RMSE\n",
        "    for N in range(min_n, max_n):\n",
        "        # Chọn top-K neighbors cho mỗi user\n",
        "        w = Window.partitionBy(\"user\").orderBy(col(\"similarity\").desc())\n",
        "        topK = (\n",
        "            sim_df\n",
        "            .withColumn(\"rank\", row_number().over(w))\n",
        "            .filter(col(\"rank\") <= N)\n",
        "            .drop(\"rank\")\n",
        "        )\n",
        "\n",
        "        # Join test_data với topK và train_norm để lấy norm_rating\n",
        "        joined = (\n",
        "            test_data.alias(\"t\")\n",
        "                     .join(topK.alias(\"s\"), col(\"t.user\") == col(\"s.user\"))\n",
        "                     .join(\n",
        "                         collab.train_norm.alias(\"r\"),\n",
        "                         (col(\"s.neighbor\") == col(\"r.user\")) &\n",
        "                         (col(\"t.item\") == col(\"r.item\"))\n",
        "                     )\n",
        "                     .select(\n",
        "                         col(\"t.user\").alias(\"target_user\"),\n",
        "                         col(\"t.item\").alias(\"target_item\"),\n",
        "                         col(\"t.rating\").alias(\"true_rating\"),\n",
        "                         col(\"s.similarity\"),\n",
        "                         col(\"r.norm_rating\")\n",
        "                     )\n",
        "        )\n",
        "\n",
        "        # Tính prediction = Σ(similarity * norm_rating) / Σ|similarity|\n",
        "        pred = (\n",
        "            joined\n",
        "            .withColumn(\"weighted\", col(\"similarity\") * col(\"norm_rating\"))\n",
        "            .groupBy(\"target_user\", \"target_item\", \"true_rating\")\n",
        "            .agg(\n",
        "                spark_sum(\"weighted\").alias(\"weighted_sum\"),\n",
        "                spark_sum(spark_abs(col(\"similarity\"))).alias(\"sim_sum\")\n",
        "            )\n",
        "            .withColumn(\n",
        "                \"prediction\",\n",
        "                when(col(\"sim_sum\") > 0, col(\"weighted_sum\") / col(\"sim_sum\"))\n",
        "                .otherwise(lit(0.0))\n",
        "            )\n",
        "        )\n",
        "\n",
        "        rmse = evaluator.evaluate(pred)\n",
        "        results.append((N, rmse))\n",
        "\n",
        "    return results\n"
      ]
    },
    {
      "cell_type": "markdown",
      "metadata": {
        "id": "UGnTkxCCyI3H"
      },
      "source": [
        "### **Trực quan hóa mối quan hệ giữa số hàng xóm (N) và sai số RMSE**"
      ]
    },
    {
      "cell_type": "code",
      "execution_count": 151,
      "metadata": {
        "id": "UPdHGZZbYNWC"
      },
      "outputs": [],
      "source": [
        "def plot_rmse_results(rmse_results):\n",
        "    fig, ax = plt.subplots(figsize=(10, 6))\n",
        "    bars = ax.bar(\n",
        "        [result[0] for result in rmse_results],\n",
        "        [result[1] for result in rmse_results],\n",
        "        width=0.6,\n",
        "        color='skyblue',\n",
        "        edgecolor='navy',\n",
        "        alpha=0.8\n",
        "    )\n",
        "\n",
        "    ax.grid(True, linestyle='--', alpha=0.7, zorder=0)\n",
        "    ax.set_axisbelow(True)\n",
        "\n",
        "    ax.set_xlabel(\"N\", fontsize=12, fontweight='bold')\n",
        "    ax.set_ylabel(\"RMSE\", fontsize=12, fontweight='bold')\n",
        "    ax.set_title(\"RMSE for Different N Values\", fontsize=14, fontweight='bold', pad=15)\n",
        "    ax.set_xticks([result[0] for result in rmse_results])\n",
        "    ax.tick_params(axis='both', which='major', labelsize=10)\n",
        "\n",
        "    for bar in bars:\n",
        "        yval = bar.get_height()\n",
        "        ax.text(bar.get_x() + bar.get_width()/2, yval + 0.01, round(yval, 3),\n",
        "                ha='center', va='bottom', fontsize=9, color='black')\n",
        "\n",
        "    plt.tight_layout()\n",
        "    plt.savefig(\"rmse_plot.png\", dpi=300, bbox_inches='tight')\n",
        "    plt.show()"
      ]
    },
    {
      "cell_type": "code",
      "execution_count": 155,
      "metadata": {
        "id": "EgKMKeQVnvvQ"
      },
      "outputs": [],
      "source": [
        "def get_user_vector(user_id, dataframe):\n",
        "    rows = dataframe.filter(col(\"user\") == user_id).select(\"item\", \"rating\").collect()\n",
        "    return {row[\"item\"]: row[\"rating\"] for row in rows}"
      ]
    },
    {
      "cell_type": "markdown",
      "metadata": {
        "id": "IHA1v0Yk_hjl"
      },
      "source": [
        "# **Test**"
      ]
    },
    {
      "cell_type": "code",
      "execution_count": 153,
      "metadata": {
        "id": "sywtnSH3IBT2"
      },
      "outputs": [],
      "source": [
        "spark = SparkSession.builder.appName(\"UserBasedCF\").getOrCreate()\n",
        "data = spark.read.csv(DATA_PATH, header=True, inferSchema=True)\n",
        "\n",
        "# Chia dữ liệu thành tập huấn luyện và kiểm tra\n",
        "train_data, test_data = data.randomSplit([0.8, 0.2], seed=42)"
      ]
    },
    {
      "cell_type": "code",
      "execution_count": null,
      "metadata": {
        "colab": {
          "base_uri": "https://localhost:8080/",
          "height": 607
        },
        "id": "NjaKqs4tk0Oo",
        "outputId": "a7ae3106-75c7-4abd-9350-148433870e43"
      },
      "outputs": [
        {
          "data": {
            "image/png": "[encoded data removed]",
            "text/plain": [
              "<Figure size 1000x600 with 1 Axes>"
            ]
          },
          "metadata": {},
          "output_type": "display_data"
        }
      ],
      "source": [
        "collab = CollaborativeFiltering(N=8, dataframe=train_data)\n",
        "rmse_results = calculate_rmse_results(collab, test_data)\n",
        "plot_rmse_results(rmse_results)\n"
      ]
    },
    {
      "cell_type": "code",
      "execution_count": null,
      "metadata": {
        "colab": {
          "base_uri": "https://localhost:8080/"
        },
        "id": "O-rlwf23nqYN",
        "outputId": "d830d069-fb54-4607-c4e8-f04d810e7962"
      },
      "outputs": [
        {
          "name": "stdout",
          "output_type": "stream",
          "text": [
            "\n",
            "Top 5 recommendations for user 1:\n",
            "+----+-----------------+\n",
            "|item|score            |\n",
            "+----+-----------------+\n",
            "|94  |7.4              |\n",
            "|431 |6.187878787878788|\n",
            "|99  |6.187878787878788|\n",
            "|183 |5.715789473684211|\n",
            "|391 |5.715789473684211|\n",
            "+----+-----------------+\n",
            "only showing top 5 rows\n",
            "\n",
            "\n",
            "Top 5 recommendations for user 20:\n",
            "+----+-----------------+\n",
            "|item|score            |\n",
            "+----+-----------------+\n",
            "|336 |7.292857142857143|\n",
            "|111 |6.934210526315789|\n",
            "|99  |6.037878787878788|\n",
            "|431 |6.037878787878788|\n",
            "|64  |5.934210526315789|\n",
            "+----+-----------------+\n",
            "only showing top 5 rows\n",
            "\n",
            "\n",
            "Top 5 recommendations for user 50:\n",
            "+----+-----------------+\n",
            "|item|score            |\n",
            "+----+-----------------+\n",
            "|242 |7.125821596244132|\n",
            "|313 |6.446153846153846|\n",
            "|429 |6.15             |\n",
            "|296 |6.125821596244132|\n",
            "|252 |6.125821596244132|\n",
            "+----+-----------------+\n",
            "only showing top 5 rows\n",
            "\n",
            "\n",
            "Top 5 recommendations for user 70:\n",
            "+----+-----------------+\n",
            "|item|score            |\n",
            "+----+-----------------+\n",
            "|336 |6.140079365079366|\n",
            "|111 |5.781432748538012|\n",
            "|429 |4.980555555555556|\n",
            "|99  |4.88510101010101 |\n",
            "|64  |4.781432748538012|\n",
            "+----+-----------------+\n",
            "only showing top 5 rows\n",
            "\n"
          ]
        }
      ],
      "source": [
        "# Khởi tạo Collaborative Filtering\n",
        "collab = CollaborativeFiltering(N=10, dataframe=train_data)\n",
        "\n",
        "# Danh sách user cần dự đoán\n",
        "user_test = [1, 20, 50, 70]\n",
        "\n",
        "for user_id in user_test:\n",
        "    user_vector = get_user_vector(user_id, train_data)\n",
        "    if len(user_vector) == 0:\n",
        "        print(f\"User {user_id} không có đánh giá trong tập huấn luyện.\")\n",
        "        continue\n",
        "\n",
        "    recommendations = collab.predict(user_vector, num_recommendations=20)\n",
        "    print(f\"\\nTop 5 recommendations for user {user_id}:\")\n",
        "    recommendations.show(5, truncate=False)\n"
      ]
    },
    {
      "cell_type": "markdown",
      "metadata": {
        "id": "LZzJsZ_IVaXl"
      },
      "source": [
        "# **Dừng Spark**"
      ]
    },
    {
      "cell_type": "code",
      "execution_count": 157,
      "metadata": {
        "id": "a9DgNgPvbc_a"
      },
      "outputs": [],
      "source": [
        "spark.stop()"
      ]
    }
  ],
  "metadata": {
    "colab": {
      "provenance": []
    },
    "kernelspec": {
      "display_name": "Python 3",
      "name": "python3"
    },
    "language_info": {
      "name": "python"
    }
  },
  "nbformat": 4,
  "nbformat_minor": 0
}
